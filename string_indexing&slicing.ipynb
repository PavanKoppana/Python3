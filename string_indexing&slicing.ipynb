{
 "cells": [
  {
   "cell_type": "code",
   "execution_count": 4,
   "id": "339c629f",
   "metadata": {},
   "outputs": [
    {
     "name": "stdout",
     "output_type": "stream",
     "text": [
      "n\n"
     ]
    }
   ],
   "source": [
    "x = \"pavan dhoni\"\n",
    "y = x[4]\n",
    "print(y)"
   ]
  },
  {
   "cell_type": "code",
   "execution_count": 27,
   "id": "2995ea54",
   "metadata": {},
   "outputs": [
    {
     "name": "stdout",
     "output_type": "stream",
     "text": [
      "p\n"
     ]
    }
   ],
   "source": [
    "print(x[0])"
   ]
  },
  {
   "cell_type": "code",
   "execution_count": 28,
   "id": "77bfcc7f",
   "metadata": {},
   "outputs": [
    {
     "name": "stdout",
     "output_type": "stream",
     "text": [
      "i\n"
     ]
    }
   ],
   "source": [
    "print(x[-1])"
   ]
  },
  {
   "cell_type": "code",
   "execution_count": 30,
   "id": "360c8d6e",
   "metadata": {},
   "outputs": [
    {
     "name": "stdout",
     "output_type": "stream",
     "text": [
      " \n"
     ]
    }
   ],
   "source": [
    "print(x[5])"
   ]
  },
  {
   "cell_type": "code",
   "execution_count": 31,
   "id": "5924bdf5",
   "metadata": {},
   "outputs": [
    {
     "name": "stdout",
     "output_type": "stream",
     "text": [
      "p n\n"
     ]
    }
   ],
   "source": [
    "print(x[0],x[-2])"
   ]
  },
  {
   "cell_type": "code",
   "execution_count": 32,
   "id": "e49aab63",
   "metadata": {},
   "outputs": [
    {
     "name": "stdout",
     "output_type": "stream",
     "text": [
      "pavan dhoni\n"
     ]
    }
   ],
   "source": [
    "print(x[0::])"
   ]
  },
  {
   "cell_type": "code",
   "execution_count": 42,
   "id": "f555051f",
   "metadata": {},
   "outputs": [
    {
     "name": "stdout",
     "output_type": "stream",
     "text": [
      "inohd navap\n"
     ]
    }
   ],
   "source": [
    "print(x[::-1])"
   ]
  },
  {
   "cell_type": "code",
   "execution_count": 34,
   "id": "6c6717bf",
   "metadata": {
    "scrolled": true
   },
   "outputs": [
    {
     "name": "stdout",
     "output_type": "stream",
     "text": [
      "pavan dhoni\n"
     ]
    }
   ],
   "source": [
    "print(x[0:])"
   ]
  },
  {
   "cell_type": "code",
   "execution_count": 6,
   "id": "ff57e837",
   "metadata": {
    "scrolled": true
   },
   "outputs": [
    {
     "name": "stdout",
     "output_type": "stream",
     "text": [
      "v\n"
     ]
    }
   ],
   "source": [
    "z=3\n",
    "print(x[z-1])"
   ]
  },
  {
   "cell_type": "code",
   "execution_count": 7,
   "id": "caeff283",
   "metadata": {},
   "outputs": [
    {
     "name": "stdout",
     "output_type": "stream",
     "text": [
      "11\n"
     ]
    }
   ],
   "source": [
    "print(len(x))"
   ]
  },
  {
   "cell_type": "code",
   "execution_count": 18,
   "id": "89e1b422",
   "metadata": {},
   "outputs": [
    {
     "name": "stdout",
     "output_type": "stream",
     "text": [
      "1 p\n",
      "2 a\n",
      "3 v\n",
      "4 a\n",
      "5 n\n",
      "6  \n",
      "7 d\n",
      "8 h\n",
      "9 o\n",
      "10 n\n",
      "11 i\n"
     ]
    }
   ],
   "source": [
    "x = \"pavan dhoni\"\n",
    "y = 0\n",
    "while y < len(x):\n",
    "    letter = x[y]\n",
    "    y += 1\n",
    "    print(y,letter)"
   ]
  },
  {
   "cell_type": "code",
   "execution_count": 11,
   "id": "049e01f5",
   "metadata": {},
   "outputs": [
    {
     "name": "stdout",
     "output_type": "stream",
     "text": [
      "p\n",
      "a\n",
      "v\n",
      "a\n",
      "n\n",
      " \n",
      "d\n",
      "h\n",
      "o\n",
      "n\n",
      "i\n"
     ]
    }
   ],
   "source": [
    "x = \"pavan dhoni\"\n",
    "for y in x:\n",
    "    print(y)"
   ]
  },
  {
   "cell_type": "code",
   "execution_count": 16,
   "id": "ddb81d07",
   "metadata": {},
   "outputs": [
    {
     "name": "stdout",
     "output_type": "stream",
     "text": [
      "2\n"
     ]
    }
   ],
   "source": [
    "x = \"pavan dhoni\"\n",
    "count = 0\n",
    "for y in x:\n",
    "    if y == 'a':\n",
    "        count += 1 \n",
    "print(count)"
   ]
  },
  {
   "cell_type": "code",
   "execution_count": 19,
   "id": "1ed4c5f1",
   "metadata": {},
   "outputs": [
    {
     "name": "stdout",
     "output_type": "stream",
     "text": [
      "pava\n",
      "pavan\n",
      "pavan dhoni\n"
     ]
    }
   ],
   "source": [
    "x = \"pavan dhoni\"\n",
    "print(x[0:4])\n",
    "print(x[0:5])\n",
    "print(x[0:12])"
   ]
  },
  {
   "cell_type": "code",
   "execution_count": 25,
   "id": "f3de1486",
   "metadata": {},
   "outputs": [
    {
     "name": "stdout",
     "output_type": "stream",
     "text": [
      "pavan \n",
      "honi\n",
      "pavan dhoni\n",
      "pavan dhoni\n",
      "inohd navap\n"
     ]
    }
   ],
   "source": [
    "x = \"pavan dhoni\"\n",
    "print(x[:6])\n",
    "print(x[7:])\n",
    "print(x[:])\n",
    "print(x[:12])\n",
    "print(x[::-1])"
   ]
  },
  {
   "cell_type": "code",
   "execution_count": null,
   "id": "431af00d",
   "metadata": {},
   "outputs": [],
   "source": []
  }
 ],
 "metadata": {
  "kernelspec": {
   "display_name": "Python 3",
   "language": "python",
   "name": "python3"
  },
  "language_info": {
   "codemirror_mode": {
    "name": "ipython",
    "version": 3
   },
   "file_extension": ".py",
   "mimetype": "text/x-python",
   "name": "python",
   "nbconvert_exporter": "python",
   "pygments_lexer": "ipython3",
   "version": "3.8.8"
  }
 },
 "nbformat": 4,
 "nbformat_minor": 5
}

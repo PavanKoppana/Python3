{
 "cells": [
  {
   "cell_type": "code",
   "execution_count": 14,
   "id": "e8c24631",
   "metadata": {},
   "outputs": [
    {
     "name": "stdout",
     "output_type": "stream",
     "text": [
      "-1\n"
     ]
    }
   ],
   "source": [
    "smallest = None\n",
    "for i in[11,2,13,24,21,5,2,0,1,2,3,-1,10,111]:\n",
    "    if smallest is None:\n",
    "        smallest = i\n",
    "    elif smallest > i:\n",
    "        smallest = i\n",
    "print(smallest)"
   ]
  }
 ],
 "metadata": {
  "kernelspec": {
   "display_name": "Python 3",
   "language": "python",
   "name": "python3"
  },
  "language_info": {
   "codemirror_mode": {
    "name": "ipython",
    "version": 3
   },
   "file_extension": ".py",
   "mimetype": "text/x-python",
   "name": "python",
   "nbconvert_exporter": "python",
   "pygments_lexer": "ipython3",
   "version": "3.8.8"
  }
 },
 "nbformat": 4,
 "nbformat_minor": 5
}
